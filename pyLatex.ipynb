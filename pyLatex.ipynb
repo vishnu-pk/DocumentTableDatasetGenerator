{
 "cells": [
  {
   "cell_type": "code",
   "execution_count": 1,
   "metadata": {},
   "outputs": [],
   "source": [
    "from pylatex import Document, Section, Subsection, LongTable, Command, Tabular, MultiColumn,MultiRow\n",
    "from pylatex.utils import italic, NoEscape"
   ]
  },
  {
   "cell_type": "code",
   "execution_count": 2,
   "metadata": {},
   "outputs": [],
   "source": [
    "def fill_document(doc):\n",
    "    \"\"\"Add a section, a subsection and some text to the document.\n",
    "\n",
    "    :param doc: the document\n",
    "    :type doc: :class:`pylatex.document.Document` instance\n",
    "    \"\"\"\n",
    "    with doc.create(Section('A section')):\n",
    "        doc.append('Some regular text and some ')\n",
    "        doc.append(italic('italic text. '))\n",
    "\n",
    "        with doc.create(Subsection('A subsection')):\n",
    "            doc.append('Also some crazy characters: $&#{}')"
   ]
  },
  {
   "cell_type": "code",
   "execution_count": 3,
   "metadata": {},
   "outputs": [],
   "source": [
    "def genenerate_longtabu():\n",
    "    geometry_options = {\n",
    "        \"margin\": \"2.54cm\",\n",
    "        \"includeheadfoot\": True\n",
    "    }\n",
    "    doc = Document(page_numbers=True, geometry_options=geometry_options)\n",
    "\n",
    "    # Generate data table\n",
    "    with doc.create(LongTable(\"l l l\")) as data_table:\n",
    "            data_table.add_hline()\n",
    "            data_table.add_row([\"header 1\", \"header 2\", \"header 3\"])\n",
    "            data_table.add_hline()\n",
    "            data_table.end_table_header()\n",
    "            data_table.add_hline()\n",
    "            data_table.add_row((MultiColumn(3, align='r',\n",
    "                                data='Continued on Next Page'),))\n",
    "            data_table.add_hline()\n",
    "            data_table.end_table_footer()\n",
    "            data_table.add_hline()\n",
    "            data_table.add_row((MultiColumn(3, align='r',\n",
    "                                data='Not Continued on Next Page'),))\n",
    "            data_table.add_hline()\n",
    "            data_table.end_table_last_footer()\n",
    "            row = [\"Content1\", \"9\", \"Longer String\"]\n",
    "            for i in range(150):\n",
    "                data_table.add_row(row)\n",
    "\n",
    "    doc.generate_pdf(\"longtable\", clean_tex=False)\n",
    "\n",
    "genenerate_longtabu()"
   ]
  },
  {
   "cell_type": "code",
   "execution_count": 4,
   "metadata": {},
   "outputs": [],
   "source": [
    "# def "
   ]
  },
  {
   "cell_type": "code",
   "execution_count": 6,
   "metadata": {},
   "outputs": [],
   "source": [
    "\n",
    "if __name__ == '__main__':\n",
    "    # Basic document\n",
    "    doc = Document('basic')\n",
    "    fill_document(doc)\n",
    "\n",
    "    doc.generate_pdf(clean_tex=False)\n",
    "    doc.generate_tex()\n",
    "\n",
    "    # Document with `\\maketitle` command activated\n",
    "    doc = Document()\n",
    "\n",
    "    doc.preamble.append(Command('title', 'Awesome Title'))\n",
    "    doc.preamble.append(Command('author', 'Anonymous author'))\n",
    "    doc.preamble.append(Command('date', NoEscape(r'\\today')))\n",
    "    doc.append(NoEscape(r'\\maketitle'))\n",
    "\n",
    "    fill_document(doc)\n",
    "\n",
    "    doc.generate_pdf('basic_maketitle101', clean_tex=True)\n",
    "\n",
    "    # Add stuff to the document\n",
    "    with doc.create(Section('A second section')):\n",
    "        doc.append('Some text.')\n",
    "\n",
    "    doc.generate_pdf( 'basic_maketitle2', clean_tex=False)\n",
    "    tex = doc.dumps()  # The document as string in LaTeX syntax"
   ]
  },
  {
   "cell_type": "code",
   "execution_count": null,
   "metadata": {},
   "outputs": [],
   "source": []
  }
 ],
 "metadata": {
  "kernelspec": {
   "display_name": "Python 3",
   "language": "python",
   "name": "python3"
  },
  "language_info": {
   "codemirror_mode": {
    "name": "ipython",
    "version": 3
   },
   "file_extension": ".py",
   "mimetype": "text/x-python",
   "name": "python",
   "nbconvert_exporter": "python",
   "pygments_lexer": "ipython3",
   "version": "3.6.12"
  }
 },
 "nbformat": 4,
 "nbformat_minor": 4
}
